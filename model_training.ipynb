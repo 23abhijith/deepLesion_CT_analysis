{
  "nbformat": 4,
  "nbformat_minor": 0,
  "metadata": {
    "colab": {
      "name": "model_training.ipynb",
      "provenance": [],
      "collapsed_sections": [],
      "machine_shape": "hm"
    },
    "kernelspec": {
      "name": "python3",
      "display_name": "Python 3"
    },
    "language_info": {
      "name": "python"
    },
    "accelerator": "GPU"
  },
  "cells": [
    {
      "cell_type": "code",
      "execution_count": 1,
      "metadata": {
        "colab": {
          "base_uri": "https://localhost:8080/"
        },
        "id": "Pp2tg07HCiYL",
        "outputId": "a546684d-c469-4bbd-a863-c0206e8d7cc3"
      },
      "outputs": [
        {
          "output_type": "stream",
          "name": "stdout",
          "text": [
            "Mounted at /content/MyDrive/\n"
          ]
        }
      ],
      "source": [
        "import os\n",
        "from google.colab import drive\n",
        "drive.mount('/content/MyDrive/')\n",
        "os.chdir('/content/MyDrive/MyDrive/bme548_unzipped/yolov5')"
      ]
    },
    {
      "cell_type": "code",
      "source": [
        "#Pulling yolov5 implementaton\n",
        "!git clone https://github.com/ultralytics/yolov5"
      ],
      "metadata": {
        "id": "jqiy8PqQFUtB"
      },
      "execution_count": null,
      "outputs": []
    },
    {
      "cell_type": "code",
      "source": [
        "os.chdir('/content/MyDrive/MyDrive/bme548_unzipped/yolov5')"
      ],
      "metadata": {
        "id": "ffUJEG2sGCk0"
      },
      "execution_count": null,
      "outputs": []
    },
    {
      "cell_type": "code",
      "source": [
        "#Install libraries needed by yolov5\n",
        "!pip install -r requirements.txt"
      ],
      "metadata": {
        "id": "7wwlA2g0OuY7"
      },
      "execution_count": null,
      "outputs": []
    },
    {
      "cell_type": "code",
      "source": [
        "#Create YAML file needed to pass train val directory locations to the algorithm\n",
        "yaml = 'path: \"../\" ' \\\n",
        "'train: images/train' \\\n",
        "'val: images/val' \\\n",
        "'# Classes' \\\n",
        "'nc: 1' \\\n",
        "'names: [' \\\n",
        "'    \"L\"' \\\n",
        "']'\n",
        "\n",
        "f = open(\"data.yaml\", \"a\")\n",
        "f.write(yaml)\n",
        "f.close()"
      ],
      "metadata": {
        "id": "FZcsXLVfGaMa"
      },
      "execution_count": null,
      "outputs": []
    },
    {
      "cell_type": "markdown",
      "source": [
        "Model Training: 16 projections"
      ],
      "metadata": {
        "id": "YJ8YAZavHXpP"
      }
    },
    {
      "cell_type": "code",
      "source": [
        "#changing directory structure to train for 16 CT projections\n",
        "#os.rename(\"../images16\", \"../images\")"
      ],
      "metadata": {
        "id": "syZj49MXDoaB"
      },
      "execution_count": null,
      "outputs": []
    },
    {
      "cell_type": "code",
      "source": [
        "RES_DIR = \"/content/MyDrive/MyDrive/bme548_unzipped/yolov5/runs/train/exp14\"\n",
        "EPOCHS = 750\n",
        "!python train.py --data ../data.yaml --weights yolov5s.pt --img 128 --epochs {EPOCHS} --batch-size 64 --device 0 --name {RES_DIR}"
      ],
      "metadata": {
        "id": "OaoMKUZmCqks"
      },
      "execution_count": null,
      "outputs": []
    },
    {
      "cell_type": "code",
      "source": [
        "#os.rename(\"../images\", \"../images16\")"
      ],
      "metadata": {
        "id": "Axs4kjFhDgWE"
      },
      "execution_count": null,
      "outputs": []
    },
    {
      "cell_type": "markdown",
      "source": [
        "Model Training: 64 projections"
      ],
      "metadata": {
        "id": "O9AvmH7IHczX"
      }
    },
    {
      "cell_type": "code",
      "source": [
        "#changing directory structure to train for 64 CT projections\n",
        "#os.rename(\"../images64\", \"../images\")"
      ],
      "metadata": {
        "id": "2ucW5LH-EkRh"
      },
      "execution_count": null,
      "outputs": []
    },
    {
      "cell_type": "code",
      "source": [
        "RES_DIR = \"/content/MyDrive/MyDrive/bme548_unzipped/yolov5/runs/train/exp15\"\n",
        "EPOCHS = 750\n",
        "!python train.py --data ../data.yaml --weights yolov5s.pt --img 128 --epochs {EPOCHS} --batch-size 64 --device 0 --name {RES_DIR}"
      ],
      "metadata": {
        "id": "nh5Yh8Le_eAq"
      },
      "execution_count": null,
      "outputs": []
    },
    {
      "cell_type": "code",
      "source": [
        "#os.rename(\"../images\", \"../images64\")"
      ],
      "metadata": {
        "id": "kCi3FqGDEvCh"
      },
      "execution_count": null,
      "outputs": []
    },
    {
      "cell_type": "markdown",
      "source": [
        "Model Training: 128 projections"
      ],
      "metadata": {
        "id": "wgYCNeM-He2j"
      }
    },
    {
      "cell_type": "code",
      "source": [
        "#changing directory structure to train for 128 CT projections\n",
        "#os.rename(\"../images128\", \"../images\")"
      ],
      "metadata": {
        "id": "AT7ZRcuPElDm"
      },
      "execution_count": null,
      "outputs": []
    },
    {
      "cell_type": "code",
      "source": [
        "RES_DIR = \"/content/MyDrive/MyDrive/bme548_unzipped/yolov5/runs/train/exp17\"\n",
        "EPOCHS = 750\n",
        "!python train.py --data ../data.yaml --weights yolov5s.pt --img 128 --epochs {EPOCHS} --batch-size 64 --device 0 --name {RES_DIR}"
      ],
      "metadata": {
        "id": "m9b6HHzm_eMh"
      },
      "execution_count": null,
      "outputs": []
    },
    {
      "cell_type": "code",
      "source": [
        "#os.rename(\"../images\", \"../images128\")"
      ],
      "metadata": {
        "id": "Y4oSogKkEldB"
      },
      "execution_count": null,
      "outputs": []
    }
  ]
}